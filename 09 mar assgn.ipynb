{
 "cells": [
  {
   "cell_type": "markdown",
   "id": "b343e08f-de06-42d8-83a6-0a794755f9ff",
   "metadata": {},
   "source": [
    "1ans:"
   ]
  },
  {
   "cell_type": "markdown",
   "id": "5850f734-0629-4a77-b9bb-ab7366fad890",
   "metadata": {},
   "source": [
    "A Probability Mass Function (PMF) is a function that describes the probability distribution of a discrete random variable. It gives the probability of each possible outcome of the random variable. The sum of the probabilities of all possible outcomes must equal one.\n",
    "\n",
    "A Probability Density Function (PDF) is a function that describes the probability distribution of a continuous random variable. It gives the probability density for each possible value of the random variable. The area under the PDF curve must equal one."
   ]
  },
  {
   "cell_type": "markdown",
   "id": "e2cd1935-f11b-468b-8d04-351f279af034",
   "metadata": {},
   "source": [
    "2ans:"
   ]
  },
  {
   "cell_type": "markdown",
   "id": "1645e820-6353-4ece-8145-8fc5f7c85083",
   "metadata": {},
   "source": [
    "The Cumulative Density Function (CDF) is a function that describes the probability that a random variable takes on a value less than or equal to a given value. In other words, it gives the cumulative probability up to a certain value.\n",
    "\n",
    "The CDF is used for several purposes in probability theory, including:\n",
    "\n",
    "Calculating probabilities: The CDF can be used to calculate the probability that a random variable takes on a value between two values a and b, by subtracting the CDF at a from the CDF at b.\n",
    "\n",
    "Finding percentiles: The CDF can be used to find the percentile of a certain value of a random variable, which is the percentage of values less than or equal to that value.\n",
    "\n",
    "Comparing distributions: The CDF can be used to compare the probability distributions of different random variables."
   ]
  },
  {
   "cell_type": "markdown",
   "id": "9815e926-af50-4666-93bc-3eebf1fc9482",
   "metadata": {},
   "source": [
    "3ans:"
   ]
  },
  {
   "cell_type": "markdown",
   "id": "0205087c-204b-4a68-93bc-68be4162c75f",
   "metadata": {},
   "source": [
    " Here are some examples of situations where the normal distribution might be used as a model:\n",
    "\n",
    "Heights and weights: In many populations, heights and weights tend to follow a normal distribution.\n",
    "\n",
    "Exam scores: The scores of a large group of students on an exam often follow a normal distribution.\n",
    "\n",
    "Blood pressure: The distribution of blood pressure readings in a population can often be modeled using the normal distribution."
   ]
  },
  {
   "cell_type": "markdown",
   "id": "15fa50bc-271c-4a3e-90c9-af888e8bf520",
   "metadata": {},
   "source": [
    "4ans:\n",
    "\n",
    "Normal distribution, also known as Gaussian distribution or the bell curve, is one of the most important and widely used distributions in statistics and probability theory. It is a continuous probability distribution that describes a set of data that clusters around a central mean with a symmetrical pattern. The importance of the normal distribution lies in its usefulness in many applications in various fields, including science, engineering, finance, and social sciences.\n",
    "\n",
    "Real-life examples of Normal Distribution are:\n",
    "\n",
    "Height: The height of human beings follows a normal distribution. Most people are around the average height, with fewer people being either very short or very tall.\n",
    "\n",
    "IQ scores: IQ scores also follow a normal distribution, with most people having an average score and fewer people having very low or very high scores.\n",
    "\n",
    "Stock prices: Stock prices can also follow a normal distribution, with most prices being around the average and fewer prices being very low or very high."
   ]
  },
  {
   "cell_type": "markdown",
   "id": "b7f0a9a7-25e9-41d7-ba90-5094e7a6704e",
   "metadata": {},
   "source": [
    "5ans:\n",
    "\n",
    "The Bernoulli distribution is a discrete probability distribution that models a single trial of a binary experiment, i.e., an experiment with only two possible outcomes. \n",
    "The probability mass function (PMF) of the Bernoulli distribution is given by:\n",
    "\n",
    "P(X = x) = p^x (1-p)^(1-x) for x = 0, 1\n",
    "\n",
    "where X is a random variable that takes on the value of 1 with probability p and the value of 0 with probability 1-p.\n",
    "The binomial distribution is a discrete probability distribution that models the number of successes in a fixed number of independent Bernoulli trials. It is derived from the Bernoulli distribution by adding up the probabilities of all possible outcomes in a given number of trials.\n",
    "\n",
    "The binomial distribution has two parameters, n and p, where n is the number of trials and p is the probability of success in each trial"
   ]
  },
  {
   "cell_type": "markdown",
   "id": "a67a56ab-eba3-45cb-acd7-caa7c219855e",
   "metadata": {},
   "source": [
    "6ans:\n",
    "\n",
    "The z-score formula is:\n",
    "\n",
    "z = (x - μ) / σ\n",
    "\n",
    "where z is the z-score, x is the observation we want to convert, μ is the population mean, and σ is the population standard deviation.\n",
    "\n",
    "Substituting the given values, we get:\n",
    "\n",
    "z = (60 - 50) / 10 = 1\n",
    "Therefore, the probability that a randomly selected observation from a normally distributed dataset with a mean of 50 and a standard deviation of 10 will be greater than 60 is 0.1587, or about 15.87%."
   ]
  },
  {
   "cell_type": "markdown",
   "id": "98e1edbd-1a2a-4318-a315-cd1cce34f463",
   "metadata": {},
   "source": [
    "7ans:\n",
    "\n",
    "\n",
    "A uniform distribution is a probability distribution in which all values within a given interval are equally likely to be observed. In other words, the probability of observing any particular value within the interval is constant.\n",
    "\n",
    "For example, suppose we have a six-sided die with the numbers 1 through 6 on its faces. If we roll the die, the outcome will be a random variable that follows a uniform distribution, because each number has an equal chance of being rolled. The probability of rolling any particular number is 1/6, which is the same for all possible outcomes.\n",
    "A uniform distribution is a probability distribution in which all values within a given interval are equally likely to be observed. In other words, the probability of observing any particular value within the interval is constant.\n",
    "\n"
   ]
  },
  {
   "cell_type": "markdown",
   "id": "e3c3d608-5e42-4564-a75b-f42933424d4b",
   "metadata": {},
   "source": [
    "8ans:\n",
    "\n",
    "The z-score  is a statistical measure that represents the number of standard deviations a data point is from the mean of the data set.\n",
    "\n",
    "Mathematically, the z-score is calculated as follows:\n",
    "\n",
    "z = (x - μ) / σ\n",
    "\n",
    "where x is the data point, μ is the mean of the data set, and σ is the standard deviation of the data set.\n",
    "\n",
    "The importance of the z-score lies in its ability to standardize different data sets and make meaningful comparisons between them. By converting raw data into z-scores, we can compare data from different distributions with different means and standard deviations, as the z-score expresses the data in a common scale"
   ]
  },
  {
   "cell_type": "markdown",
   "id": "64fb8e95-bd2c-4058-b6db-289c1d3e8631",
   "metadata": {},
   "source": [
    "9ans:\n",
    "\n",
    "The Central Limit Theorem (CLT) is a fundamental theorem in probability theory that states that the sum of a large number of independent and identically distributed random variables, each with finite mean and variance, will converge to a normal distribution, regardless of the underlying distribution of the variables themselves.\n",
    "\n",
    "The significance of the Central Limit Theorem is that it is widely applicable in statistics and is used in a wide range of fields, including finance, physics, engineering, and biology. It allows researchers to make inferences about the population parameters from a sample, as it provides a way to estimate the population mean and standard deviation using the sample mean and standard deviation. "
   ]
  },
  {
   "cell_type": "markdown",
   "id": "acf411a8-d8ff-43c3-b2d6-8f53c25bd5d2",
   "metadata": {},
   "source": [
    "10ans:\n",
    "\n"
   ]
  }
 ],
 "metadata": {
  "kernelspec": {
   "display_name": "Python 3 (ipykernel)",
   "language": "python",
   "name": "python3"
  },
  "language_info": {
   "codemirror_mode": {
    "name": "ipython",
    "version": 3
   },
   "file_extension": ".py",
   "mimetype": "text/x-python",
   "name": "python",
   "nbconvert_exporter": "python",
   "pygments_lexer": "ipython3",
   "version": "3.10.8"
  }
 },
 "nbformat": 4,
 "nbformat_minor": 5
}
